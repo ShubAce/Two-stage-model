{
 "cells": [
  {
   "cell_type": "markdown",
   "id": "40df787f",
   "metadata": {},
   "source": [
    "#### Decision Variables\n",
    "\n",
    "-   **First-stage variables**\n",
    "\n",
    "    $$x \\in \\mathbb{R}^{n_1}, \\quad x \\geq 0$$\n",
    "\n",
    "    Decided before uncertainty is revealed; common across all scenarios.\n",
    "\n",
    "-   **Second-stage (recourse) variables**\n",
    "\n",
    "    $$y(\\omega) \\in \\mathbb{R}^{n_2}, \\quad y(\\omega) \\geq 0 \\quad \\forall \\omega \\in \\Omega$$\n",
    "\n",
    "    Adapted to each scenario outcome.\n",
    "\n",
    "#### Parameters\n",
    "\n",
    "-   $c \\in \\mathbb{R}^{n_1}$: Cost vector for first-stage decisions.\n",
    "-   $A \\in \\mathbb{R}^{m_1 \\times n_1}$, $b \\in \\mathbb{R}^{m_1}$: First-stage constraint matrix and RHS.\n",
    "-   For each scenario $\\omega$ with probability $p_{\\omega}$:\n",
    "    -   $T_{\\omega} \\in \\mathbb{R}^{m_2 \\times n_1}$, $W_{\\omega} \\in \\mathbb{R}^{m_2 \\times n_2}$,\n",
    "    -   $r_{\\omega} \\in \\mathbb{R}^{m_2}$, $g_{\\omega} \\in \\mathbb{R}^{n_2}$.\n"
   ]
  },
  {
   "cell_type": "markdown",
   "id": "7a98a66b",
   "metadata": {},
   "source": [
    "#### Objective Function\n",
    "\n",
    "$$\\min_{x \\geq 0} c^\\top x + \\mathbb{E}_{\\tilde{\\omega}} [h(x, \\tilde{\\omega})],$$\n",
    "\n",
    "where the second-stage recourse cost:\n",
    "\n",
    "$$h(x, \\omega) = \\min_{y \\geq 0} \\left\\{ g_\\omega^\\top y \\mid W_\\omega y \\geq r_\\omega - T_\\omega x \\right\\}$$\n",
    "\n",
    "#### Constraints\n",
    "\n",
    "1. **First-stage feasibility**  \n",
    "   $$A x \\leq b$$\n",
    "\n",
    "2. **Recourse feasibility (per scenario)**  \n",
    "   $$W_\\omega y(\\omega) \\geq r_\\omega - T_\\omega x, \\quad \\forall \\omega \\in \\Omega$$\n",
    "\n",
    "3. **Nonanticipativity**  \n",
    "   Implicit: $x$ is the same across all scenarios (no $x(\\omega)$ subscript).\n"
   ]
  },
  {
   "cell_type": "markdown",
   "id": "c0477809",
   "metadata": {},
   "source": [
    "### The model which is used according to the paper is:\n"
   ]
  },
  {
   "cell_type": "markdown",
   "id": "88893aca",
   "metadata": {},
   "source": [
    "#### First-stage:\n",
    "\n",
    "-   $x_b$: Lumber procured (board feet)\n",
    "-   $x_f$: Finishing labor hours procured\n",
    "-   $x_c$: Carpentry labor hours procured\n",
    "\n",
    "#### Second-stage:\n",
    "\n",
    "For each scenario $\\omega \\in \\{\\text{low, mid, high}\\}$:\n",
    "\n",
    "-   $y_{d,\\omega}$: Desks produced in scenario $\\omega$\n",
    "-   $y_{t,\\omega}$: Tables produced in scenario $\\omega$\n",
    "-   $y_{c,\\omega}$: Chairs produced in scenario $\\omega$\n",
    "\n",
    "#### Objective\n",
    "\n",
    "Maximize expected profit:\n",
    "\n",
    "$$\\text{Minimize } 2x_b +4x_f +5.2x_c - \\sum_{\\omega} p_\\omega(60y_{d,\\omega} + 40y_{t,\\omega} + 10y_{c,\\omega})$$\n",
    "\n",
    "where $p_\\omega$ is the probability of scenario $\\omega$.\n"
   ]
  },
  {
   "cell_type": "code",
   "execution_count": 3,
   "id": "da3712a5",
   "metadata": {},
   "outputs": [],
   "source": [
    "import gurobipy as gp\n",
    "from gurobipy import GRB"
   ]
  },
  {
   "cell_type": "code",
   "execution_count": 14,
   "id": "60105583",
   "metadata": {},
   "outputs": [],
   "source": [
    "# according to the given values in the paper\n",
    "scenarios   = ['l','m','h']\n",
    "p           = {'l': 0.3, 'm': 0.4, 'h': 0.3}   # scenario probabilities\n",
    "cost_x      = {'b': 2.0, 'f': 4.0, 'c': 5.2}   # first‐stage costs\n",
    "\n",
    "# second‐stage unit profits\n",
    "profit = {'d': 60.0, 't': 40.0, 'c': 10.0}\n",
    "\n",
    "usage = {\n",
    "    'b': {'d':  8.0, 't':  6.0, 'c': 1.0},\n",
    "    'f': {'d':  4.0, 't':  2.0, 'c': 1.5},\n",
    "    'c': {'d':  2.0, 't': 1.5, 'c': 0.5},\n",
    "}\n",
    "\n",
    "# demand (or capacity) upper bounds per scenario and product\n",
    "demand_ub = {\n",
    "    'l': {'d': 50,  't':  20,  'c': 200},\n",
    "    'm': {'d':150,  't': 110,  'c': 225},\n",
    "    'h': {'d':250,  't': 250,  'c': 500},\n",
    "}"
   ]
  },
  {
   "cell_type": "code",
   "execution_count": 15,
   "id": "3a3d932d",
   "metadata": {},
   "outputs": [],
   "source": [
    "m = gp.Model(\"two_stage_furniture\")"
   ]
  },
  {
   "cell_type": "code",
   "execution_count": 16,
   "id": "6ae9c45e",
   "metadata": {},
   "outputs": [],
   "source": [
    "x = m.addVars(['b','f','c'], lb=0.0, name=\"x\") # First‐stage vars: x_b, x_f, x_c\n",
    "y = m.addVars(['d','t','c'], scenarios, lb=0.0, name=\"y\") # Recourse vars: y[i,ω] for i∈{d,t,c}"
   ]
  },
  {
   "cell_type": "code",
   "execution_count": 17,
   "id": "8221138c",
   "metadata": {},
   "outputs": [],
   "source": [
    "# First‐stage cost + expected second‐stage profit\n",
    "first_stage_cost = sum(cost_x[r] * x[r] for r in ['b','f','c'])\n",
    "recourse_profit  = sum(\n",
    "    p[w] * (profit['d']*y['d',w]\n",
    "           + profit['t']*y['t',w]\n",
    "           + profit['c']*y['c',w])\n",
    "    for w in scenarios\n",
    ")\n",
    "m.setObjective(first_stage_cost - recourse_profit, GRB.MINIMIZE)"
   ]
  },
  {
   "cell_type": "code",
   "execution_count": 18,
   "id": "a3c32820",
   "metadata": {},
   "outputs": [],
   "source": [
    "# Resource‐capacity constraints per scenario:\n",
    "for w in scenarios:\n",
    "    for r in ['b','f','c']:\n",
    "        m.addConstr(\n",
    "            - x[r]\n",
    "            + sum(usage[r][i] * y[i,w] for i in ['d','t','c'])\n",
    "            <= 0,\n",
    "            name=f\"res_{r}_{w}\"\n",
    "        )\n",
    "\n",
    "# Demand/capacity upper bounds (recourse side)\n",
    "for w in scenarios:\n",
    "    for i in ['d','t','c']:\n",
    "        m.addConstr(\n",
    "            y[i,w] <= demand_ub[w][i],\n",
    "            name=f\"demand_{i}_{w}\"\n",
    "        )\n"
   ]
  },
  {
   "cell_type": "code",
   "execution_count": 20,
   "id": "4cc55e1a",
   "metadata": {},
   "outputs": [
    {
     "name": "stdout",
     "output_type": "stream",
     "text": [
      "Gurobi Optimizer version 12.0.2 build v12.0.2rc0 (win64 - Windows 11.0 (26100.2))\n",
      "\n",
      "CPU model: 13th Gen Intel(R) Core(TM) i7-13700HX, instruction set [SSE2|AVX|AVX2]\n",
      "Thread count: 16 physical cores, 24 logical processors, using up to 24 threads\n",
      "\n",
      "Optimize a model with 18 rows, 12 columns and 45 nonzeros\n",
      "Coefficient statistics:\n",
      "  Matrix range     [5e-01, 8e+00]\n",
      "  Objective range  [2e+00, 2e+01]\n",
      "  Bounds range     [0e+00, 0e+00]\n",
      "  RHS range        [2e+01, 5e+02]\n",
      "\n",
      "Solved in 0 iterations and 0.01 seconds (0.00 work units)\n",
      "Optimal objective -1.730000000e+03\n"
     ]
    }
   ],
   "source": [
    "m.write(\"two stage model.lp\")\n",
    "m.optimize()"
   ]
  },
  {
   "cell_type": "code",
   "execution_count": 24,
   "id": "c41dfd35",
   "metadata": {},
   "outputs": [
    {
     "name": "stdout",
     "output_type": "stream",
     "text": [
      "First‐stage x:\n",
      " x_b = 1300.00\n",
      " x_f = 540.00\n",
      " x_c = 325.00\n",
      "\n",
      "Recourse y (per scenario):\n",
      " Scenario l:  d=50, t=20, c=200\n",
      " Scenario m:  d=80, t=110, c=0\n",
      " Scenario h:  d=80, t=110, c=0\n"
     ]
    }
   ],
   "source": [
    "if m.status == GRB.OPTIMAL:\n",
    "    print(\"First‐stage x:\")\n",
    "    for r in ['b','f','c']:\n",
    "        print(f\" x_{r} = {x[r].X:.2f}\")\n",
    "    print(\"\\nRecourse y (per scenario):\")\n",
    "    for w in scenarios:\n",
    "        print(f\" Scenario {w}: \",\n",
    "              \", \".join(f\"{i}={y[i,w].X:.0f}\" for i in ['d','t','c']))\n",
    "else:\n",
    "    print(\"No optimal solution found.\")\n"
   ]
  },
  {
   "cell_type": "code",
   "execution_count": null,
   "id": "de3d8504",
   "metadata": {},
   "outputs": [],
   "source": []
  }
 ],
 "metadata": {
  "kernelspec": {
   "display_name": "py-TF",
   "language": "python",
   "name": "my-env"
  },
  "language_info": {
   "codemirror_mode": {
    "name": "ipython",
    "version": 3
   },
   "file_extension": ".py",
   "mimetype": "text/x-python",
   "name": "python",
   "nbconvert_exporter": "python",
   "pygments_lexer": "ipython3",
   "version": "3.12.8"
  }
 },
 "nbformat": 4,
 "nbformat_minor": 5
}
