{
 "cells": [
  {
   "cell_type": "markdown",
   "id": "e5f41b8c",
   "metadata": {},
   "source": [
    "-   products: list of product names (e.g., ['d', 't', 'c'])\n",
    "-   scenarios: list of scenario names (e.g., ['l', 'm', 'h'])\n",
    "-   cost_x: dict, cost per unit of each resource {r: cost}\n",
    "-   profit_y: dict, profit per unit of each product {p: profit}\n",
    "-   usage: nested dict, usage[r][p] = units of resource r needed per unit of product p\n",
    "-   p: dict, probability of each scenario {s: probability}\n",
    "-   demand_ub: nested dict, demand_ub[s][p] = upper bound on product p in scenario s\n"
   ]
  },
  {
   "cell_type": "markdown",
   "id": "184759f8",
   "metadata": {},
   "source": []
  },
  {
   "cell_type": "code",
   "execution_count": 1,
   "id": "472d91d9",
   "metadata": {},
   "outputs": [],
   "source": [
    "from gurobipy import Model, GRB"
   ]
  },
  {
   "cell_type": "code",
   "execution_count": 2,
   "id": "ade28924",
   "metadata": {},
   "outputs": [],
   "source": [
    "def two_stage_model(resources, products, scenarios, cost_x, profit_y, usage, p, demand_ub):\n",
    "    \n",
    "    model = Model(\"general_two_stage_stochastic\")\n",
    "    \n",
    "    x = model.addVars(resources, lb=0.0, name=\"x\") \n",
    "\n",
    "    y = model.addVars(products, scenarios, lb=0.0, name=\"y\") \n",
    "\n",
    "    first_stage_cost = sum(cost_x[r] * x[r] for r in resources)\n",
    "    recourse_profit = sum(\n",
    "        p[s] * sum(profit_y[i] * y[i, s] for i in products)\n",
    "        for s in scenarios\n",
    "    )\n",
    "    model.setObjective(first_stage_cost - recourse_profit, GRB.MINIMIZE)\n",
    "\n",
    "    for s in scenarios:\n",
    "        for r in resources:\n",
    "            model.addConstr(\n",
    "                -x[r] + sum(usage[r][i] * y[i, s] for i in products) <= 0,\n",
    "                name=f\"capacity_{r}_{s}\"\n",
    "            )\n",
    "\n",
    "    for s in scenarios:\n",
    "        for i in products:\n",
    "            model.addConstr(\n",
    "                y[i, s] <= demand_ub[s][i],\n",
    "                name=f\"demand_ub_{i}_{s}\"\n",
    "            )\n",
    "    model.optimize()\n",
    "\n",
    "    if model.status == GRB.OPTIMAL:\n",
    "        print(\"First‐stage x*:\")\n",
    "        for r in ['b','f','c']:\n",
    "            print(f\" x_{r} = {x[r].X:.2f}\")\n",
    "        print(\"\\nRecourse y* (per scenario):\")\n",
    "        for w in scenarios:\n",
    "            print(f\" Scenario {w}: \",\n",
    "                \", \".join(f\"{i}={y[i,w].X:.0f}\" for i in ['d','t','c']))\n",
    "    else:\n",
    "        print(\"No optimal solution found.\")\n"
   ]
  },
  {
   "cell_type": "code",
   "execution_count": null,
   "id": "1c005661",
   "metadata": {},
   "outputs": [
    {
     "name": "stdout",
     "output_type": "stream",
     "text": [
      "Restricted license - for non-production use only - expires 2026-11-23\n",
      "Gurobi Optimizer version 12.0.2 build v12.0.2rc0 (win64 - Windows 11.0 (26100.2))\n",
      "\n",
      "CPU model: 13th Gen Intel(R) Core(TM) i7-13700HX, instruction set [SSE2|AVX|AVX2]\n",
      "Thread count: 16 physical cores, 24 logical processors, using up to 24 threads\n",
      "\n",
      "Optimize a model with 18 rows, 12 columns and 45 nonzeros\n",
      "Model fingerprint: 0xfa9bc9a3\n",
      "Coefficient statistics:\n",
      "  Matrix range     [5e-01, 8e+00]\n",
      "  Objective range  [2e+00, 2e+01]\n",
      "  Bounds range     [0e+00, 0e+00]\n",
      "  RHS range        [2e+01, 5e+02]\n",
      "Presolve removed 12 rows and 0 columns\n",
      "Presolve time: 0.01s\n",
      "Presolved: 6 rows, 12 columns, 42 nonzeros\n",
      "\n",
      "Iteration    Objective       Primal Inf.    Dual Inf.      Time\n",
      "       0   -9.0820000e+03   5.193750e+02   0.000000e+00      0s\n",
      "       8   -1.7300000e+03   0.000000e+00   0.000000e+00      0s\n",
      "\n",
      "Solved in 8 iterations and 0.01 seconds (0.00 work units)\n",
      "Optimal objective -1.730000000e+03\n",
      "First‐stage x*:\n",
      " x_b = 1300.00\n",
      " x_f = 540.00\n",
      " x_c = 325.00\n",
      "\n",
      "Recourse y* (per scenario):\n",
      " Scenario l:  d=50, t=20, c=200\n",
      " Scenario m:  d=80, t=110, c=0\n",
      " Scenario h:  d=80, t=110, c=0\n"
     ]
    }
   ],
   "source": [
    "resources = ['b', 'f', 'c']\n",
    "products = ['d', 't', 'c']\n",
    "scenarios = ['l', 'm', 'h']\n",
    "\n",
    "cost_x = {'b': 2, 'f': 4, 'c': 5.2}\n",
    "profit_y = {'d': 60, 't': 40, 'c': 10}\n",
    "\n",
    "usage = {\n",
    "    'b': {'d': 8, 't': 6, 'c': 1},\n",
    "    'f': {'d': 4, 't': 2, 'c': 1.5},\n",
    "    'c': {'d': 2, 't': 1.5, 'c': 0.5}\n",
    "}\n",
    "\n",
    "p = {'l': 0.3, 'm': 0.4, 'h': 0.3}\n",
    "\n",
    "demand_ub = {\n",
    "    'l': {'d': 50, 't': 20, 'c': 200},\n",
    "    'm': {'d': 150, 't': 110, 'c': 225},\n",
    "    'h': {'d': 250, 't': 250, 'c': 500}\n",
    "}\n",
    "\n",
    "two_stage_model(resources, products, scenarios, cost_x, profit_y, usage, p, demand_ub)\n"
   ]
  },
  {
   "cell_type": "code",
   "execution_count": null,
   "id": "9d29dcd9",
   "metadata": {},
   "outputs": [],
   "source": []
  }
 ],
 "metadata": {
  "kernelspec": {
   "display_name": "py-TF",
   "language": "python",
   "name": "python3"
  },
  "language_info": {
   "codemirror_mode": {
    "name": "ipython",
    "version": 3
   },
   "file_extension": ".py",
   "mimetype": "text/x-python",
   "name": "python",
   "nbconvert_exporter": "python",
   "pygments_lexer": "ipython3",
   "version": "3.12.8"
  }
 },
 "nbformat": 4,
 "nbformat_minor": 5
}
